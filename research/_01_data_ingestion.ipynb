{
 "cells": [
  {
   "cell_type": "code",
   "execution_count": 1,
   "metadata": {},
   "outputs": [],
   "source": [
    "import os"
   ]
  },
  {
   "cell_type": "code",
   "execution_count": 2,
   "metadata": {},
   "outputs": [
    {
     "data": {
      "text/plain": [
       "'d:\\\\Projects\\\\Chest-Cancer-Classification-MLFlow-DVC\\\\research'"
      ]
     },
     "execution_count": 2,
     "metadata": {},
     "output_type": "execute_result"
    }
   ],
   "source": [
    "%pwd"
   ]
  },
  {
   "cell_type": "code",
   "execution_count": 3,
   "metadata": {},
   "outputs": [],
   "source": [
    "# We need to be on the project root folder to ensure our code works with relative paths and avoid the FileNotFoundError.\n",
    "os.chdir(\"../\")"
   ]
  },
  {
   "cell_type": "code",
   "execution_count": 4,
   "metadata": {},
   "outputs": [
    {
     "data": {
      "text/plain": [
       "'d:\\\\Projects\\\\Chest-Cancer-Classification-MLFlow-DVC'"
      ]
     },
     "execution_count": 4,
     "metadata": {},
     "output_type": "execute_result"
    }
   ],
   "source": [
    "%pwd"
   ]
  },
  {
   "cell_type": "code",
   "execution_count": 5,
   "metadata": {},
   "outputs": [],
   "source": [
    "from dataclasses import dataclass\n",
    "from pathlib import Path\n",
    "\n",
    "# @dataclass(frozen=True): This decorator is used to automatically generate special methods like __init__(), __repr__(), __eq__(), etc., for the class. \n",
    "# The frozen=True parameter makes the instances of this class immutable, meaning that its fields cannot be modified after they are created.\n",
    "# to ensure that the configuration settings remain constant throughout the execution of the program.\n",
    "@dataclass(frozen=True)\n",
    "class DataIngestionConfig:\n",
    "    root_dir: Path\n",
    "    source_URL: str\n",
    "    local_data_file: Path\n",
    "    unzip_dir: Path"
   ]
  },
  {
   "cell_type": "code",
   "execution_count": 11,
   "metadata": {},
   "outputs": [],
   "source": [
    "from src.cnnClassifier.constants import *\n",
    "from src.cnnClassifier.utils.common import read_yaml, create_directories"
   ]
  },
  {
   "cell_type": "code",
   "execution_count": 7,
   "metadata": {},
   "outputs": [],
   "source": [
    "class ConfigurationManager:\n",
    "    \"\"\"\n",
    "    ConfigurationManager handles the setup and retrieval of configuration settings for the pipeline.\n",
    "    \"\"\"\n",
    "\n",
    "    def __init__(self, \n",
    "                 config_filepath=CONFIG_FILE_PATH, \n",
    "                 params_filepath=PARAMS_FILE_PATH):\n",
    "        # Load configuration settings from the specified config.yaml file\n",
    "        self.config = read_yaml(config_filepath)\n",
    "        \n",
    "        # Load parameters from the specified params file\n",
    "        self.params = read_yaml(params_filepath)\n",
    "\n",
    "        # Create the root directory for artifacts as declared in config.yaml file\n",
    "        create_directories([self.config.artifacts_root])\n",
    "\n",
    "    def get_data_ingestion_config(self) -> DataIngestionConfig:\n",
    "        \"\"\"\n",
    "        Retrieves and prepares the data ingestion configuration settings.\n",
    "\n",
    "        Returns:\n",
    "            DataIngestionConfig: Data ingestion configuration settings.\n",
    "        \"\"\"\n",
    "        # Extract data_ingestion settings from config.yaml file\n",
    "        config_di = self.config.data_ingestion  \n",
    "\n",
    "        # Create directory for data ingestion artifacts\n",
    "        create_directories([config_di.root_dir])\n",
    "\n",
    "        # Create a DataIngestionConfig object with the settings\n",
    "        data_ingestion_config = DataIngestionConfig(\n",
    "            root_dir=config_di.root_dir,\n",
    "            source_URL=config_di.source_URL,\n",
    "            local_data_file=config_di.local_data_file,\n",
    "            unzip_dir=config_di.unzip_dir\n",
    "        )\n",
    "\n",
    "        return data_ingestion_config\n"
   ]
  },
  {
   "cell_type": "code",
   "execution_count": 8,
   "metadata": {},
   "outputs": [],
   "source": [
    "import os\n",
    "import zipfile\n",
    "# import gdown package to download from google drive\n",
    "import gdown\n",
    "from src.cnnClassifier.logging import logger\n",
    "from src.cnnClassifier.utils.common import get_size\n"
   ]
  },
  {
   "cell_type": "code",
   "execution_count": 9,
   "metadata": {},
   "outputs": [],
   "source": [
    "class DataIngestion:\n",
    "    \"\"\"\n",
    "    DataIngestion handles downloading and extracting the dataset for the machine learning pipeline.\n",
    "\n",
    "    Attributes:\n",
    "        config (DataIngestionConfig): Configuration for data ingestion process.\n",
    "    \"\"\"\n",
    "    \n",
    "    def __init__(self, config: DataIngestionConfig):\n",
    "        self.config = config\n",
    "\n",
    "    def download_file(self) -> str:\n",
    "        \"\"\"\n",
    "        Downloads the dataset from the specified URL.\n",
    "\n",
    "        Returns:  str: Path to the downloaded file.\n",
    "        \"\"\"\n",
    "        try:\n",
    "            dataset_url = self.config.source_URL\n",
    "            zip_download_dir = self.config.local_data_file\n",
    "\n",
    "            # Ensure the directory for downloading the dataset exists\n",
    "            os.makedirs(self.config.root_dir, exist_ok=True)\n",
    "            logger.info(f\"Downloading data from {dataset_url} into file {zip_download_dir}\")\n",
    "\n",
    "            # Construct the download URL for Google Drive\n",
    "            file_id = dataset_url.split(\"/\")[-2]\n",
    "            prefix = 'https://drive.google.com/uc?/export=download&id='\n",
    "            \n",
    "            # Download the file using gdown\n",
    "            gdown.download(prefix + file_id, zip_download_dir, quiet=False)\n",
    "            logger.info(f\"Downloaded data from {dataset_url} into file {zip_download_dir}\")\n",
    "\n",
    "            return str(zip_download_dir)\n",
    "\n",
    "        except Exception as e:\n",
    "            logger.error(f\"Error downloading data: {e}\")\n",
    "            raise e\n",
    "  \n",
    "    def extract_zip_file(self):\n",
    "        \"\"\"\n",
    "        Extracts the downloaded zip file into the specified directory.\n",
    "\n",
    "        Returns: None\n",
    "        \"\"\"\n",
    "        unzip_path = self.config.unzip_dir\n",
    "\n",
    "        # Ensure the directory for unzipping the dataset exists\n",
    "        os.makedirs(unzip_path, exist_ok=True)\n",
    "        logger.info(f\"Extracting zip file {self.config.local_data_file} into directory {unzip_path}\")\n",
    "\n",
    "        # Extract the contents of the zip file\n",
    "        with zipfile.ZipFile(self.config.local_data_file, 'r') as zip_ref:\n",
    "            zip_ref.extractall(unzip_path)\n",
    "\n",
    "        logger.info(f\"Extracted zip file {self.config.local_data_file} into directory {unzip_path}\")"
   ]
  },
  {
   "cell_type": "code",
   "execution_count": 10,
   "metadata": {},
   "outputs": [
    {
     "name": "stdout",
     "output_type": "stream",
     "text": [
      "[2024-07-31 15:17:31,254: INFO: common: YAML file: config\\config.yaml loaded successfully]\n",
      "[2024-07-31 15:17:31,308: INFO: common: YAML file: params.yaml loaded successfully]\n",
      "[2024-07-31 15:17:31,313: INFO: common: Created directory at: artifacts]\n",
      "[2024-07-31 15:17:31,317: INFO: common: Created directory at: artifacts/data_ingestion]\n",
      "[2024-07-31 15:17:31,320: INFO: 3843480513: Downloading data from https://drive.google.com/file/d/1J5yEH4PMqHKBt2d4rVCK_tc1NyP8hREe/view?usp=sharing into file artifacts/data_ingestion/data.zip]\n"
     ]
    },
    {
     "name": "stderr",
     "output_type": "stream",
     "text": [
      "Downloading...\n",
      "From (original): https://drive.google.com/uc?/export=download&id=1J5yEH4PMqHKBt2d4rVCK_tc1NyP8hREe\n",
      "From (redirected): https://drive.google.com/uc?%2Fexport=download&id=1J5yEH4PMqHKBt2d4rVCK_tc1NyP8hREe&confirm=t&uuid=d1279325-94f1-44de-b471-fb21dd59c8ed\n",
      "To: d:\\Projects\\Chest-Cancer-Classification-MLFlow-DVC\\artifacts\\data_ingestion\\data.zip\n",
      "100%|██████████| 107M/107M [00:09<00:00, 11.0MB/s] "
     ]
    },
    {
     "name": "stdout",
     "output_type": "stream",
     "text": [
      "[2024-07-31 15:17:44,878: INFO: 3843480513: Downloaded data from https://drive.google.com/file/d/1J5yEH4PMqHKBt2d4rVCK_tc1NyP8hREe/view?usp=sharing into file artifacts/data_ingestion/data.zip]\n",
      "[2024-07-31 15:17:44,883: INFO: 3843480513: Extracting zip file artifacts/data_ingestion/data.zip into directory artifacts/data_ingestion]\n"
     ]
    },
    {
     "name": "stderr",
     "output_type": "stream",
     "text": [
      "\n"
     ]
    },
    {
     "name": "stdout",
     "output_type": "stream",
     "text": [
      "[2024-07-31 15:17:47,538: INFO: 3843480513: Extracted zip file artifacts/data_ingestion/data.zip into directory artifacts/data_ingestion]\n"
     ]
    }
   ],
   "source": [
    "try:\n",
    "    # Initialize the ConfigurationManager to load configuration settings\n",
    "    config = ConfigurationManager()\n",
    "    \n",
    "    # Retrieve the data ingestion configuration settings\n",
    "    data_ingestion_config = config.get_data_ingestion_config()\n",
    "    \n",
    "    # Initialize the DataIngestion process with the configuration settings\n",
    "    data_ingestion = DataIngestion(config=data_ingestion_config)\n",
    "    \n",
    "    # Download the dataset file from the specified source URL\n",
    "    data_ingestion.download_file()\n",
    "    \n",
    "    # Extract the downloaded zip file to the specified directory\n",
    "    data_ingestion.extract_zip_file()\n",
    "    \n",
    "except Exception as e:\n",
    "    # Log the exception details and raise it\n",
    "    logger.error(f\"An error occurred: {e}\")\n",
    "    raise e"
   ]
  },
  {
   "cell_type": "code",
   "execution_count": null,
   "metadata": {},
   "outputs": [],
   "source": []
  }
 ],
 "metadata": {
  "kernelspec": {
   "display_name": "Python 3",
   "language": "python",
   "name": "python3"
  },
  "language_info": {
   "codemirror_mode": {
    "name": "ipython",
    "version": 3
   },
   "file_extension": ".py",
   "mimetype": "text/x-python",
   "name": "python",
   "nbconvert_exporter": "python",
   "pygments_lexer": "ipython3",
   "version": "3.10.0"
  }
 },
 "nbformat": 4,
 "nbformat_minor": 2
}
