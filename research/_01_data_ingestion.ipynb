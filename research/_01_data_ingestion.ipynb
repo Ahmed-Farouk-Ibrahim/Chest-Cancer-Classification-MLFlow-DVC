{
 "cells": [
  {
   "cell_type": "code",
   "execution_count": 1,
   "metadata": {},
   "outputs": [],
   "source": [
    "import os"
   ]
  },
  {
   "cell_type": "code",
   "execution_count": 2,
   "metadata": {},
   "outputs": [],
   "source": [
    "from dataclasses import dataclass\n",
    "from pathlib import Path\n",
    "\n",
    "# @dataclass(frozen=True): This decorator is used to automatically generate special methods like __init__(), __repr__(), __eq__(), etc., for the class. \n",
    "# The frozen=True parameter makes the instances of this class immutable, meaning that its fields cannot be modified after they are created.\n",
    "# to ensure that the configuration settings remain constant throughout the execution of the program.\n",
    "@dataclass(frozen=True)\n",
    "class DataIngestionConfig:\n",
    "    root_dir: Path\n",
    "    source_URL: str\n",
    "    local_data_file: Path\n",
    "    unzip_dir: Path"
   ]
  },
  {
   "cell_type": "code",
   "execution_count": 3,
   "metadata": {},
   "outputs": [],
   "source": [
    "from src.cnnClassifier.constants import *\n",
    "from src.cnnClassifier.utils.common import read_yaml, create_directories"
   ]
  },
  {
   "cell_type": "code",
   "execution_count": 4,
   "metadata": {},
   "outputs": [],
   "source": [
    "class ConfigurationManager:\n",
    "    \"\"\"\n",
    "    ConfigurationManager handles the setup and retrieval of configuration settings for the pipeline.\n",
    "    \"\"\"\n",
    "\n",
    "    def __init__(self, \n",
    "                 config_filepath=CONFIG_FILE_PATH, \n",
    "                 params_filepath=PARAMS_FILE_PATH):\n",
    "        # Load configuration settings from the specified config.yaml file\n",
    "        self.config = read_yaml(config_filepath)\n",
    "        \n",
    "        # Load parameters from the specified params file\n",
    "        self.params = read_yaml(params_filepath)\n",
    "\n",
    "        # Create the root directory for artifacts as declared in config.yaml file\n",
    "        create_directories([self.config.artifacts_root])\n",
    "\n",
    "    def get_data_ingestion_config(self) -> DataIngestionConfig:\n",
    "        \"\"\"\n",
    "        Retrieves and prepares the data ingestion configuration settings.\n",
    "\n",
    "        Returns:\n",
    "            DataIngestionConfig: Data ingestion configuration settings.\n",
    "        \"\"\"\n",
    "        # Extract data_ingestion settings from config.yaml file\n",
    "        config_di = self.config.data_ingestion  \n",
    "\n",
    "        # Create directory for data ingestion artifacts\n",
    "        create_directories([config_di.root_dir])\n",
    "\n",
    "        # Create a DataIngestionConfig object with the settings\n",
    "        data_ingestion_config = DataIngestionConfig(\n",
    "            root_dir=config_di.root_dir,\n",
    "            source_URL=config_di.source_URL,\n",
    "            local_data_file=config_di.local_data_file,\n",
    "            unzip_dir=config_di.unzip_dir\n",
    "        )\n",
    "\n",
    "        return data_ingestion_config\n"
   ]
  },
  {
   "cell_type": "code",
   "execution_count": 5,
   "metadata": {},
   "outputs": [],
   "source": [
    "import os\n",
    "import zipfile\n",
    "# import gdown package to download from google drive\n",
    "import gdown\n",
    "from src.cnnClassifier.logging import logger\n",
    "from src.cnnClassifier.utils.common import get_size\n"
   ]
  },
  {
   "cell_type": "code",
   "execution_count": 6,
   "metadata": {},
   "outputs": [],
   "source": [
    "class DataIngestion:\n",
    "    \"\"\"\n",
    "    DataIngestion handles downloading and extracting the dataset for the machine learning pipeline.\n",
    "\n",
    "    Attributes:\n",
    "        config (DataIngestionConfig): Configuration for data ingestion process.\n",
    "    \"\"\"\n",
    "    \n",
    "    def __init__(self, config: DataIngestionConfig):\n",
    "        self.config = config\n",
    "\n",
    "    def download_file(self) -> str:\n",
    "        \"\"\"\n",
    "        Downloads the dataset from the specified URL.\n",
    "\n",
    "        Returns:\n",
    "            str: Path to the downloaded file.\n",
    "        \"\"\"\n",
    "        try:\n",
    "            dataset_url = self.config.source_URL\n",
    "            zip_download_dir = self.config.local_data_file\n",
    "\n",
    "            # Ensure the directory for downloading the dataset exists\n",
    "            os.makedirs(self.config.root_dir, exist_ok=True)\n",
    "            logger.info(f\"Downloading data from {dataset_url} into file {zip_download_dir}\")\n",
    "\n",
    "            # Construct the download URL for Google Drive\n",
    "            file_id = dataset_url.split(\"/\")[-2]\n",
    "            prefix = 'https://drive.google.com/uc?/export=download&id='\n",
    "            \n",
    "            # Download the file using gdown\n",
    "            gdown.download(prefix + file_id, zip_download_dir, quiet=False)\n",
    "            logger.info(f\"Downloaded data from {dataset_url} into file {zip_download_dir}\")\n",
    "\n",
    "            return str(zip_download_dir)\n",
    "\n",
    "        except Exception as e:\n",
    "            logger.error(f\"Error downloading data: {e}\")\n",
    "            raise e\n",
    "  \n",
    "    def extract_zip_file(self):\n",
    "        \"\"\"\n",
    "        Extracts the downloaded zip file into the specified directory.\n",
    "\n",
    "        Returns:\n",
    "            None\n",
    "        \"\"\"\n",
    "        unzip_path = self.config.unzip_dir\n",
    "\n",
    "        # Ensure the directory for unzipping the dataset exists\n",
    "        os.makedirs(unzip_path, exist_ok=True)\n",
    "        logger.info(f\"Extracting zip file {self.config.local_data_file} into directory {unzip_path}\")\n",
    "\n",
    "        # Extract the contents of the zip file\n",
    "        with zipfile.ZipFile(self.config.local_data_file, 'r') as zip_ref:\n",
    "            zip_ref.extractall(unzip_path)\n",
    "\n",
    "        logger.info(f\"Extracted zip file {self.config.local_data_file} into directory {unzip_path}\")"
   ]
  },
  {
   "cell_type": "code",
   "execution_count": 7,
   "metadata": {},
   "outputs": [
    {
     "name": "stdout",
     "output_type": "stream",
     "text": [
      "[2024-07-31 01:11:07,513: INFO: common: YAML file: D:\\ML\\MLOps\\Bappy\\Chest-Cancer-Classification-MLFlow-DVC\\config\\config.yaml loaded successfully]\n",
      "[2024-07-31 01:11:07,546: INFO: common: YAML file: D:\\ML\\MLOps\\Bappy\\Chest-Cancer-Classification-MLFlow-DVC\\params.yaml loaded successfully]\n",
      "[2024-07-31 01:11:07,556: INFO: common: Created directory at: artifacts]\n",
      "[2024-07-31 01:11:07,567: INFO: common: Created directory at: artifacts/data_ingestion]\n",
      "[2024-07-31 01:11:07,570: INFO: 3843480513: Downloading data from https://drive.google.com/file/d/1z0mreUtRmR-P-magILsDR3T7M6IkGXtY/view?usp=sharing into file artifacts/data_ingestion/data.zip]\n"
     ]
    },
    {
     "name": "stderr",
     "output_type": "stream",
     "text": [
      "Downloading...\n",
      "From (original): https://drive.google.com/uc?/export=download&id=1z0mreUtRmR-P-magILsDR3T7M6IkGXtY\n",
      "From (redirected): https://drive.google.com/uc?%2Fexport=download&id=1z0mreUtRmR-P-magILsDR3T7M6IkGXtY&confirm=t&uuid=3dad3399-6238-45eb-9199-4bbac7cb3129\n",
      "To: d:\\ML\\MLOps\\Bappy\\Chest-Cancer-Classification-MLFlow-DVC\\research\\artifacts\\data_ingestion\\data.zip\n",
      "100%|██████████| 49.0M/49.0M [00:03<00:00, 15.8MB/s]"
     ]
    },
    {
     "name": "stdout",
     "output_type": "stream",
     "text": [
      "[2024-07-31 01:11:15,028: INFO: 3843480513: Downloaded data from https://drive.google.com/file/d/1z0mreUtRmR-P-magILsDR3T7M6IkGXtY/view?usp=sharing into file artifacts/data_ingestion/data.zip]\n",
      "[2024-07-31 01:11:15,031: INFO: 3843480513: Extracting zip file artifacts/data_ingestion/data.zip into directory artifacts/data_ingestion]\n"
     ]
    },
    {
     "name": "stderr",
     "output_type": "stream",
     "text": [
      "\n"
     ]
    },
    {
     "name": "stdout",
     "output_type": "stream",
     "text": [
      "[2024-07-31 01:11:15,625: INFO: 3843480513: Extracted zip file artifacts/data_ingestion/data.zip into directory artifacts/data_ingestion]\n"
     ]
    }
   ],
   "source": [
    "try:\n",
    "    # Initialize the ConfigurationManager to load configuration settings\n",
    "    config = ConfigurationManager()\n",
    "    \n",
    "    # Retrieve the data ingestion configuration settings\n",
    "    data_ingestion_config = config.get_data_ingestion_config()\n",
    "    \n",
    "    # Initialize the DataIngestion process with the configuration settings\n",
    "    data_ingestion = DataIngestion(config=data_ingestion_config)\n",
    "    \n",
    "    # Download the dataset file from the specified source URL\n",
    "    data_ingestion.download_file()\n",
    "    \n",
    "    # Extract the downloaded zip file to the specified directory\n",
    "    data_ingestion.extract_zip_file()\n",
    "    \n",
    "except Exception as e:\n",
    "    # Log the exception details and raise it\n",
    "    logger.error(f\"An error occurred: {e}\")\n",
    "    raise e"
   ]
  },
  {
   "cell_type": "code",
   "execution_count": null,
   "metadata": {},
   "outputs": [],
   "source": []
  }
 ],
 "metadata": {
  "kernelspec": {
   "display_name": "Python 3",
   "language": "python",
   "name": "python3"
  },
  "language_info": {
   "codemirror_mode": {
    "name": "ipython",
    "version": 3
   },
   "file_extension": ".py",
   "mimetype": "text/x-python",
   "name": "python",
   "nbconvert_exporter": "python",
   "pygments_lexer": "ipython3",
   "version": "3.10.0"
  }
 },
 "nbformat": 4,
 "nbformat_minor": 2
}
